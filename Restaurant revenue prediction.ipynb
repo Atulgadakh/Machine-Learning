{
 "cells": [
  {
   "cell_type": "markdown",
   "id": "dd48df02",
   "metadata": {},
   "source": [
    "# Restaurant Revenue Prediction using Linear Regression"
   ]
  },
  {
   "cell_type": "code",
   "execution_count": 1,
   "id": "ff92783e",
   "metadata": {},
   "outputs": [],
   "source": [
    "import numpy as np\n",
    "import pandas as pd\n",
    "from matplotlib import pyplot as plt\n",
    "import seaborn as sns\n",
    "import os"
   ]
  },
  {
   "cell_type": "code",
   "execution_count": 2,
   "id": "283c84b7",
   "metadata": {},
   "outputs": [],
   "source": [
    "os.chdir(r\"C:\\Users\\hp\\Desktop\\New folder (3)\")"
   ]
  },
  {
   "cell_type": "code",
   "execution_count": 3,
   "id": "d59302c9",
   "metadata": {},
   "outputs": [],
   "source": [
    "df=pd.read_csv(\"Restaurant.csv\")"
   ]
  },
  {
   "cell_type": "code",
   "execution_count": 4,
   "id": "a9fc6156",
   "metadata": {},
   "outputs": [
    {
     "data": {
      "text/html": [
       "<div>\n",
       "<style scoped>\n",
       "    .dataframe tbody tr th:only-of-type {\n",
       "        vertical-align: middle;\n",
       "    }\n",
       "\n",
       "    .dataframe tbody tr th {\n",
       "        vertical-align: top;\n",
       "    }\n",
       "\n",
       "    .dataframe thead th {\n",
       "        text-align: right;\n",
       "    }\n",
       "</style>\n",
       "<table border=\"1\" class=\"dataframe\">\n",
       "  <thead>\n",
       "    <tr style=\"text-align: right;\">\n",
       "      <th></th>\n",
       "      <th>Number_of_Customers</th>\n",
       "      <th>Menu_Price</th>\n",
       "      <th>Marketing_Spend</th>\n",
       "      <th>Cuisine_Type</th>\n",
       "      <th>Average_Customer_Spending</th>\n",
       "      <th>Promotions</th>\n",
       "      <th>Reviews</th>\n",
       "      <th>Monthly_Revenue</th>\n",
       "    </tr>\n",
       "  </thead>\n",
       "  <tbody>\n",
       "    <tr>\n",
       "      <th>0</th>\n",
       "      <td>61</td>\n",
       "      <td>43.117635</td>\n",
       "      <td>12.663793</td>\n",
       "      <td>Japanese</td>\n",
       "      <td>36.236133</td>\n",
       "      <td>0</td>\n",
       "      <td>45</td>\n",
       "      <td>350.912040</td>\n",
       "    </tr>\n",
       "    <tr>\n",
       "      <th>1</th>\n",
       "      <td>24</td>\n",
       "      <td>40.020077</td>\n",
       "      <td>4.577892</td>\n",
       "      <td>Italian</td>\n",
       "      <td>17.952562</td>\n",
       "      <td>0</td>\n",
       "      <td>36</td>\n",
       "      <td>221.319091</td>\n",
       "    </tr>\n",
       "    <tr>\n",
       "      <th>2</th>\n",
       "      <td>81</td>\n",
       "      <td>41.981485</td>\n",
       "      <td>4.652911</td>\n",
       "      <td>Japanese</td>\n",
       "      <td>22.600420</td>\n",
       "      <td>1</td>\n",
       "      <td>91</td>\n",
       "      <td>326.529763</td>\n",
       "    </tr>\n",
       "    <tr>\n",
       "      <th>3</th>\n",
       "      <td>70</td>\n",
       "      <td>43.005307</td>\n",
       "      <td>4.416053</td>\n",
       "      <td>Italian</td>\n",
       "      <td>18.984098</td>\n",
       "      <td>1</td>\n",
       "      <td>59</td>\n",
       "      <td>348.190573</td>\n",
       "    </tr>\n",
       "    <tr>\n",
       "      <th>4</th>\n",
       "      <td>30</td>\n",
       "      <td>17.456199</td>\n",
       "      <td>3.475052</td>\n",
       "      <td>Italian</td>\n",
       "      <td>12.766143</td>\n",
       "      <td>1</td>\n",
       "      <td>30</td>\n",
       "      <td>185.009121</td>\n",
       "    </tr>\n",
       "  </tbody>\n",
       "</table>\n",
       "</div>"
      ],
      "text/plain": [
       "   Number_of_Customers  Menu_Price  Marketing_Spend Cuisine_Type  \\\n",
       "0                   61   43.117635        12.663793     Japanese   \n",
       "1                   24   40.020077         4.577892      Italian   \n",
       "2                   81   41.981485         4.652911     Japanese   \n",
       "3                   70   43.005307         4.416053      Italian   \n",
       "4                   30   17.456199         3.475052      Italian   \n",
       "\n",
       "   Average_Customer_Spending  Promotions  Reviews  Monthly_Revenue  \n",
       "0                  36.236133           0       45       350.912040  \n",
       "1                  17.952562           0       36       221.319091  \n",
       "2                  22.600420           1       91       326.529763  \n",
       "3                  18.984098           1       59       348.190573  \n",
       "4                  12.766143           1       30       185.009121  "
      ]
     },
     "execution_count": 4,
     "metadata": {},
     "output_type": "execute_result"
    }
   ],
   "source": [
    "df.head()"
   ]
  },
  {
   "cell_type": "code",
   "execution_count": 5,
   "id": "90d9ebc4",
   "metadata": {},
   "outputs": [
    {
     "name": "stdout",
     "output_type": "stream",
     "text": [
      "<class 'pandas.core.frame.DataFrame'>\n",
      "RangeIndex: 1000 entries, 0 to 999\n",
      "Data columns (total 8 columns):\n",
      " #   Column                     Non-Null Count  Dtype  \n",
      "---  ------                     --------------  -----  \n",
      " 0   Number_of_Customers        1000 non-null   int64  \n",
      " 1   Menu_Price                 1000 non-null   float64\n",
      " 2   Marketing_Spend            1000 non-null   float64\n",
      " 3   Cuisine_Type               1000 non-null   object \n",
      " 4   Average_Customer_Spending  1000 non-null   float64\n",
      " 5   Promotions                 1000 non-null   int64  \n",
      " 6   Reviews                    1000 non-null   int64  \n",
      " 7   Monthly_Revenue            1000 non-null   float64\n",
      "dtypes: float64(4), int64(3), object(1)\n",
      "memory usage: 62.6+ KB\n"
     ]
    }
   ],
   "source": [
    "df.info()"
   ]
  },
  {
   "cell_type": "code",
   "execution_count": 6,
   "id": "c26ba88d",
   "metadata": {},
   "outputs": [
    {
     "data": {
      "text/plain": [
       "Number_of_Customers          0\n",
       "Menu_Price                   0\n",
       "Marketing_Spend              0\n",
       "Cuisine_Type                 0\n",
       "Average_Customer_Spending    0\n",
       "Promotions                   0\n",
       "Reviews                      0\n",
       "Monthly_Revenue              0\n",
       "dtype: int64"
      ]
     },
     "execution_count": 6,
     "metadata": {},
     "output_type": "execute_result"
    }
   ],
   "source": [
    "df.isnull().sum()"
   ]
  },
  {
   "cell_type": "code",
   "execution_count": 7,
   "id": "9d744bda",
   "metadata": {},
   "outputs": [
    {
     "data": {
      "text/html": [
       "<div>\n",
       "<style scoped>\n",
       "    .dataframe tbody tr th:only-of-type {\n",
       "        vertical-align: middle;\n",
       "    }\n",
       "\n",
       "    .dataframe tbody tr th {\n",
       "        vertical-align: top;\n",
       "    }\n",
       "\n",
       "    .dataframe thead th {\n",
       "        text-align: right;\n",
       "    }\n",
       "</style>\n",
       "<table border=\"1\" class=\"dataframe\">\n",
       "  <thead>\n",
       "    <tr style=\"text-align: right;\">\n",
       "      <th></th>\n",
       "      <th>Number_of_Customers</th>\n",
       "      <th>Menu_Price</th>\n",
       "      <th>Marketing_Spend</th>\n",
       "      <th>Cuisine_Type</th>\n",
       "      <th>Average_Customer_Spending</th>\n",
       "      <th>Promotions</th>\n",
       "      <th>Reviews</th>\n",
       "      <th>Monthly_Revenue</th>\n",
       "    </tr>\n",
       "  </thead>\n",
       "  <tbody>\n",
       "    <tr>\n",
       "      <th>0</th>\n",
       "      <td>61</td>\n",
       "      <td>43.117635</td>\n",
       "      <td>12.663793</td>\n",
       "      <td>Japanese</td>\n",
       "      <td>36.236133</td>\n",
       "      <td>0</td>\n",
       "      <td>45</td>\n",
       "      <td>350.912040</td>\n",
       "    </tr>\n",
       "    <tr>\n",
       "      <th>1</th>\n",
       "      <td>24</td>\n",
       "      <td>40.020077</td>\n",
       "      <td>4.577892</td>\n",
       "      <td>Italian</td>\n",
       "      <td>17.952562</td>\n",
       "      <td>0</td>\n",
       "      <td>36</td>\n",
       "      <td>221.319091</td>\n",
       "    </tr>\n",
       "    <tr>\n",
       "      <th>2</th>\n",
       "      <td>81</td>\n",
       "      <td>41.981485</td>\n",
       "      <td>4.652911</td>\n",
       "      <td>Japanese</td>\n",
       "      <td>22.600420</td>\n",
       "      <td>1</td>\n",
       "      <td>91</td>\n",
       "      <td>326.529763</td>\n",
       "    </tr>\n",
       "    <tr>\n",
       "      <th>3</th>\n",
       "      <td>70</td>\n",
       "      <td>43.005307</td>\n",
       "      <td>4.416053</td>\n",
       "      <td>Italian</td>\n",
       "      <td>18.984098</td>\n",
       "      <td>1</td>\n",
       "      <td>59</td>\n",
       "      <td>348.190573</td>\n",
       "    </tr>\n",
       "    <tr>\n",
       "      <th>4</th>\n",
       "      <td>30</td>\n",
       "      <td>17.456199</td>\n",
       "      <td>3.475052</td>\n",
       "      <td>Italian</td>\n",
       "      <td>12.766143</td>\n",
       "      <td>1</td>\n",
       "      <td>30</td>\n",
       "      <td>185.009121</td>\n",
       "    </tr>\n",
       "  </tbody>\n",
       "</table>\n",
       "</div>"
      ],
      "text/plain": [
       "   Number_of_Customers  Menu_Price  Marketing_Spend Cuisine_Type  \\\n",
       "0                   61   43.117635        12.663793     Japanese   \n",
       "1                   24   40.020077         4.577892      Italian   \n",
       "2                   81   41.981485         4.652911     Japanese   \n",
       "3                   70   43.005307         4.416053      Italian   \n",
       "4                   30   17.456199         3.475052      Italian   \n",
       "\n",
       "   Average_Customer_Spending  Promotions  Reviews  Monthly_Revenue  \n",
       "0                  36.236133           0       45       350.912040  \n",
       "1                  17.952562           0       36       221.319091  \n",
       "2                  22.600420           1       91       326.529763  \n",
       "3                  18.984098           1       59       348.190573  \n",
       "4                  12.766143           1       30       185.009121  "
      ]
     },
     "execution_count": 7,
     "metadata": {},
     "output_type": "execute_result"
    }
   ],
   "source": [
    "df.head()"
   ]
  },
  {
   "cell_type": "code",
   "execution_count": null,
   "id": "560aab02",
   "metadata": {},
   "outputs": [],
   "source": [
    "#Exploratory Data Analysis(EDA)"
   ]
  },
  {
   "cell_type": "code",
   "execution_count": 8,
   "id": "1bf5e830",
   "metadata": {},
   "outputs": [
    {
     "data": {
      "text/plain": [
       "Cuisine_Type\n",
       "Japanese    262\n",
       "American    256\n",
       "Mexican     250\n",
       "Italian     232\n",
       "Name: count, dtype: int64"
      ]
     },
     "execution_count": 8,
     "metadata": {},
     "output_type": "execute_result"
    }
   ],
   "source": [
    "df[\"Cuisine_Type\"].value_counts()"
   ]
  },
  {
   "cell_type": "code",
   "execution_count": 9,
   "id": "2891a1a0",
   "metadata": {},
   "outputs": [
    {
     "data": {
      "image/png": "[encoded data removed]",
      "text/plain": [
       "<Figure size 640x480 with 1 Axes>"
      ]
     },
     "metadata": {},
     "output_type": "display_data"
    }
   ],
   "source": [
    "plt.pie(df[\"Cuisine_Type\"].value_counts(),labels=(df[\"Cuisine_Type\"].value_counts().keys()),autopct=\"%0.1f%%\")\n",
    "plt.title(\"Menus in Resturent\")\n",
    "plt.show()"
   ]
  },
  {
   "cell_type": "code",
   "execution_count": 10,
   "id": "58b5765f",
   "metadata": {},
   "outputs": [
    {
     "data": {
      "text/plain": [
       "0      Japanese\n",
       "1       Italian\n",
       "2      Japanese\n",
       "3       Italian\n",
       "4       Italian\n",
       "         ...   \n",
       "995    Japanese\n",
       "996     Mexican\n",
       "997    Japanese\n",
       "998    Japanese\n",
       "999     Italian\n",
       "Name: Cuisine_Type, Length: 1000, dtype: object"
      ]
     },
     "execution_count": 10,
     "metadata": {},
     "output_type": "execute_result"
    }
   ],
   "source": [
    "df[\"Cuisine_Type\"]"
   ]
  },
  {
   "cell_type": "code",
   "execution_count": 11,
   "id": "0a55415b",
   "metadata": {},
   "outputs": [
    {
     "data": {
      "text/plain": [
       "0      43.117635\n",
       "1      40.020077\n",
       "2      41.981485\n",
       "3      43.005307\n",
       "4      17.456199\n",
       "         ...    \n",
       "995    41.307842\n",
       "996    20.615496\n",
       "997    17.110656\n",
       "998    37.664722\n",
       "999    34.722067\n",
       "Name: Menu_Price, Length: 1000, dtype: float64"
      ]
     },
     "execution_count": 11,
     "metadata": {},
     "output_type": "execute_result"
    }
   ],
   "source": [
    "df[\"Menu_Price\"]"
   ]
  },
  {
   "cell_type": "code",
   "execution_count": 12,
   "id": "3e0786ac",
   "metadata": {},
   "outputs": [
    {
     "data": {
      "image/png": "[encoded data removed]",
      "text/plain": [
       "<Figure size 640x480 with 1 Axes>"
      ]
     },
     "metadata": {},
     "output_type": "display_data"
    }
   ],
   "source": [
    "plt.bar(df[\"Cuisine_Type\"],df[\"Menu_Price\"],color=[\"orange\"])\n",
    "plt.xlabel(\"Menu\")\n",
    "plt.ylabel(\"Price\")\n",
    "plt.title(\"Menu and their Price\")\n",
    "plt.show()"
   ]
  },
  {
   "cell_type": "code",
   "execution_count": 13,
   "id": "ec4c0c36",
   "metadata": {},
   "outputs": [
    {
     "data": {
      "text/plain": [
       "0      Japanese\n",
       "1       Italian\n",
       "2      Japanese\n",
       "3       Italian\n",
       "4       Italian\n",
       "         ...   \n",
       "995    Japanese\n",
       "996     Mexican\n",
       "997    Japanese\n",
       "998    Japanese\n",
       "999     Italian\n",
       "Name: Cuisine_Type, Length: 1000, dtype: object"
      ]
     },
     "execution_count": 13,
     "metadata": {},
     "output_type": "execute_result"
    }
   ],
   "source": [
    "df[\"Cuisine_Type\"]"
   ]
  },
  {
   "cell_type": "code",
   "execution_count": 14,
   "id": "8e53880b",
   "metadata": {},
   "outputs": [
    {
     "data": {
      "text/plain": [
       "0      350.912040\n",
       "1      221.319091\n",
       "2      326.529763\n",
       "3      348.190573\n",
       "4      185.009121\n",
       "          ...    \n",
       "995    249.312034\n",
       "996    110.228767\n",
       "997    312.212552\n",
       "998    272.482204\n",
       "999    379.973072\n",
       "Name: Monthly_Revenue, Length: 1000, dtype: float64"
      ]
     },
     "execution_count": 14,
     "metadata": {},
     "output_type": "execute_result"
    }
   ],
   "source": [
    "df[\"Monthly_Revenue\"]"
   ]
  },
  {
   "cell_type": "code",
   "execution_count": 15,
   "id": "020802c3",
   "metadata": {},
   "outputs": [
    {
     "data": {
      "image/png": "[encoded data removed]",
      "text/plain": [
       "<Figure size 640x480 with 1 Axes>"
      ]
     },
     "metadata": {},
     "output_type": "display_data"
    }
   ],
   "source": [
    "plt.bar(df[\"Cuisine_Type\"],df[\"Monthly_Revenue\"],color=[\"blue\"])\n",
    "plt.xlabel(\"Menu\")\n",
    "plt.ylabel(\"Revenue\")\n",
    "plt.title(\"Menu and their Revenue\")\n",
    "plt.show()"
   ]
  },
  {
   "cell_type": "code",
   "execution_count": 16,
   "id": "8d4cea2a",
   "metadata": {},
   "outputs": [
    {
     "data": {
      "text/plain": [
       "0      Japanese\n",
       "1       Italian\n",
       "2      Japanese\n",
       "3       Italian\n",
       "4       Italian\n",
       "         ...   \n",
       "995    Japanese\n",
       "996     Mexican\n",
       "997    Japanese\n",
       "998    Japanese\n",
       "999     Italian\n",
       "Name: Cuisine_Type, Length: 1000, dtype: object"
      ]
     },
     "execution_count": 16,
     "metadata": {},
     "output_type": "execute_result"
    }
   ],
   "source": [
    "df[\"Cuisine_Type\"]"
   ]
  },
  {
   "cell_type": "code",
   "execution_count": 17,
   "id": "0a9aed61",
   "metadata": {},
   "outputs": [
    {
     "data": {
      "text/plain": [
       "0      36.236133\n",
       "1      17.952562\n",
       "2      22.600420\n",
       "3      18.984098\n",
       "4      12.766143\n",
       "         ...    \n",
       "995    19.033585\n",
       "996    17.040990\n",
       "997    44.649315\n",
       "998    27.767358\n",
       "999    15.482112\n",
       "Name: Average_Customer_Spending, Length: 1000, dtype: float64"
      ]
     },
     "execution_count": 17,
     "metadata": {},
     "output_type": "execute_result"
    }
   ],
   "source": [
    "df[\"Average_Customer_Spending\"]"
   ]
  },
  {
   "cell_type": "code",
   "execution_count": 18,
   "id": "a9f02245",
   "metadata": {},
   "outputs": [
    {
     "data": {
      "image/png": "[encoded data removed]",
      "text/plain": [
       "<Figure size 640x480 with 1 Axes>"
      ]
     },
     "metadata": {},
     "output_type": "display_data"
    }
   ],
   "source": [
    "plt.barh(df[\"Cuisine_Type\"],df[\"Average_Customer_Spending\"],color=[\"red\"])\n",
    "plt.xlabel(\"Menus\")\n",
    "plt.ylabel(\"custmer spending time\")\n",
    "plt.show()"
   ]
  },
  {
   "cell_type": "code",
   "execution_count": 29,
   "id": "6fcfd885",
   "metadata": {},
   "outputs": [
    {
     "data": {
      "text/html": [
       "<div>\n",
       "<style scoped>\n",
       "    .dataframe tbody tr th:only-of-type {\n",
       "        vertical-align: middle;\n",
       "    }\n",
       "\n",
       "    .dataframe tbody tr th {\n",
       "        vertical-align: top;\n",
       "    }\n",
       "\n",
       "    .dataframe thead th {\n",
       "        text-align: right;\n",
       "    }\n",
       "</style>\n",
       "<table border=\"1\" class=\"dataframe\">\n",
       "  <thead>\n",
       "    <tr style=\"text-align: right;\">\n",
       "      <th></th>\n",
       "      <th>Number_of_Customers</th>\n",
       "      <th>Menu_Price</th>\n",
       "      <th>Marketing_Spend</th>\n",
       "      <th>Cuisine_Type</th>\n",
       "      <th>Average_Customer_Spending</th>\n",
       "      <th>Promotions</th>\n",
       "      <th>Reviews</th>\n",
       "      <th>Monthly_Revenue</th>\n",
       "    </tr>\n",
       "  </thead>\n",
       "  <tbody>\n",
       "    <tr>\n",
       "      <th>289</th>\n",
       "      <td>44</td>\n",
       "      <td>49.974140</td>\n",
       "      <td>15.437155</td>\n",
       "      <td>Italian</td>\n",
       "      <td>44.350457</td>\n",
       "      <td>1</td>\n",
       "      <td>91</td>\n",
       "      <td>330.713819</td>\n",
       "    </tr>\n",
       "    <tr>\n",
       "      <th>33</th>\n",
       "      <td>71</td>\n",
       "      <td>49.907705</td>\n",
       "      <td>12.921802</td>\n",
       "      <td>American</td>\n",
       "      <td>38.576564</td>\n",
       "      <td>0</td>\n",
       "      <td>12</td>\n",
       "      <td>485.240271</td>\n",
       "    </tr>\n",
       "    <tr>\n",
       "      <th>382</th>\n",
       "      <td>85</td>\n",
       "      <td>49.853431</td>\n",
       "      <td>3.377084</td>\n",
       "      <td>Mexican</td>\n",
       "      <td>42.812964</td>\n",
       "      <td>1</td>\n",
       "      <td>61</td>\n",
       "      <td>374.160024</td>\n",
       "    </tr>\n",
       "  </tbody>\n",
       "</table>\n",
       "</div>"
      ],
      "text/plain": [
       "     Number_of_Customers  Menu_Price  Marketing_Spend Cuisine_Type  \\\n",
       "289                   44   49.974140        15.437155      Italian   \n",
       "33                    71   49.907705        12.921802     American   \n",
       "382                   85   49.853431         3.377084      Mexican   \n",
       "\n",
       "     Average_Customer_Spending  Promotions  Reviews  Monthly_Revenue  \n",
       "289                  44.350457           1       91       330.713819  \n",
       "33                   38.576564           0       12       485.240271  \n",
       "382                  42.812964           1       61       374.160024  "
      ]
     },
     "execution_count": 29,
     "metadata": {},
     "output_type": "execute_result"
    }
   ],
   "source": [
    "df.sort_values(by=\"Menu_Price\",ascending=False).head(3)"
   ]
  },
  {
   "cell_type": "code",
   "execution_count": 20,
   "id": "6c813e24",
   "metadata": {},
   "outputs": [
    {
     "data": {
      "text/html": [
       "<div>\n",
       "<style scoped>\n",
       "    .dataframe tbody tr th:only-of-type {\n",
       "        vertical-align: middle;\n",
       "    }\n",
       "\n",
       "    .dataframe tbody tr th {\n",
       "        vertical-align: top;\n",
       "    }\n",
       "\n",
       "    .dataframe thead th {\n",
       "        text-align: right;\n",
       "    }\n",
       "</style>\n",
       "<table border=\"1\" class=\"dataframe\">\n",
       "  <thead>\n",
       "    <tr style=\"text-align: right;\">\n",
       "      <th></th>\n",
       "      <th>Number_of_Customers</th>\n",
       "      <th>Menu_Price</th>\n",
       "      <th>Marketing_Spend</th>\n",
       "      <th>Cuisine_Type</th>\n",
       "      <th>Average_Customer_Spending</th>\n",
       "      <th>Promotions</th>\n",
       "      <th>Reviews</th>\n",
       "      <th>Monthly_Revenue</th>\n",
       "    </tr>\n",
       "  </thead>\n",
       "  <tbody>\n",
       "    <tr>\n",
       "      <th>84</th>\n",
       "      <td>96</td>\n",
       "      <td>16.620820</td>\n",
       "      <td>16.610689</td>\n",
       "      <td>Japanese</td>\n",
       "      <td>12.284687</td>\n",
       "      <td>0</td>\n",
       "      <td>23</td>\n",
       "      <td>563.381332</td>\n",
       "    </tr>\n",
       "    <tr>\n",
       "      <th>894</th>\n",
       "      <td>92</td>\n",
       "      <td>23.342782</td>\n",
       "      <td>18.143996</td>\n",
       "      <td>American</td>\n",
       "      <td>23.433739</td>\n",
       "      <td>1</td>\n",
       "      <td>13</td>\n",
       "      <td>542.467282</td>\n",
       "    </tr>\n",
       "    <tr>\n",
       "      <th>729</th>\n",
       "      <td>83</td>\n",
       "      <td>41.820415</td>\n",
       "      <td>19.994276</td>\n",
       "      <td>Italian</td>\n",
       "      <td>39.634771</td>\n",
       "      <td>0</td>\n",
       "      <td>61</td>\n",
       "      <td>539.371604</td>\n",
       "    </tr>\n",
       "  </tbody>\n",
       "</table>\n",
       "</div>"
      ],
      "text/plain": [
       "     Number_of_Customers  Menu_Price  Marketing_Spend Cuisine_Type  \\\n",
       "84                    96   16.620820        16.610689     Japanese   \n",
       "894                   92   23.342782        18.143996     American   \n",
       "729                   83   41.820415        19.994276      Italian   \n",
       "\n",
       "     Average_Customer_Spending  Promotions  Reviews  Monthly_Revenue  \n",
       "84                   12.284687           0       23       563.381332  \n",
       "894                  23.433739           1       13       542.467282  \n",
       "729                  39.634771           0       61       539.371604  "
      ]
     },
     "execution_count": 20,
     "metadata": {},
     "output_type": "execute_result"
    }
   ],
   "source": [
    "df.sort_values(by=\"Monthly_Revenue\",ascending=False).head(3)"
   ]
  },
  {
   "cell_type": "code",
   "execution_count": 34,
   "id": "e57b26d1",
   "metadata": {},
   "outputs": [
    {
     "data": {
      "text/html": [
       "<div>\n",
       "<style scoped>\n",
       "    .dataframe tbody tr th:only-of-type {\n",
       "        vertical-align: middle;\n",
       "    }\n",
       "\n",
       "    .dataframe tbody tr th {\n",
       "        vertical-align: top;\n",
       "    }\n",
       "\n",
       "    .dataframe thead th {\n",
       "        text-align: right;\n",
       "    }\n",
       "</style>\n",
       "<table border=\"1\" class=\"dataframe\">\n",
       "  <thead>\n",
       "    <tr style=\"text-align: right;\">\n",
       "      <th></th>\n",
       "      <th>Number_of_Customers</th>\n",
       "      <th>Menu_Price</th>\n",
       "      <th>Marketing_Spend</th>\n",
       "      <th>Cuisine_Type</th>\n",
       "      <th>Average_Customer_Spending</th>\n",
       "      <th>Promotions</th>\n",
       "      <th>Reviews</th>\n",
       "      <th>Monthly_Revenue</th>\n",
       "    </tr>\n",
       "  </thead>\n",
       "  <tbody>\n",
       "    <tr>\n",
       "      <th>790</th>\n",
       "      <td>97</td>\n",
       "      <td>12.851211</td>\n",
       "      <td>15.251928</td>\n",
       "      <td>Japanese</td>\n",
       "      <td>17.026884</td>\n",
       "      <td>0</td>\n",
       "      <td>99</td>\n",
       "      <td>295.258914</td>\n",
       "    </tr>\n",
       "    <tr>\n",
       "      <th>642</th>\n",
       "      <td>30</td>\n",
       "      <td>35.301621</td>\n",
       "      <td>9.332156</td>\n",
       "      <td>Mexican</td>\n",
       "      <td>14.531984</td>\n",
       "      <td>1</td>\n",
       "      <td>99</td>\n",
       "      <td>51.269261</td>\n",
       "    </tr>\n",
       "    <tr>\n",
       "      <th>226</th>\n",
       "      <td>79</td>\n",
       "      <td>32.931775</td>\n",
       "      <td>16.027338</td>\n",
       "      <td>American</td>\n",
       "      <td>42.704935</td>\n",
       "      <td>1</td>\n",
       "      <td>99</td>\n",
       "      <td>262.777638</td>\n",
       "    </tr>\n",
       "  </tbody>\n",
       "</table>\n",
       "</div>"
      ],
      "text/plain": [
       "     Number_of_Customers  Menu_Price  Marketing_Spend Cuisine_Type  \\\n",
       "790                   97   12.851211        15.251928     Japanese   \n",
       "642                   30   35.301621         9.332156      Mexican   \n",
       "226                   79   32.931775        16.027338     American   \n",
       "\n",
       "     Average_Customer_Spending  Promotions  Reviews  Monthly_Revenue  \n",
       "790                  17.026884           0       99       295.258914  \n",
       "642                  14.531984           1       99        51.269261  \n",
       "226                  42.704935           1       99       262.777638  "
      ]
     },
     "execution_count": 34,
     "metadata": {},
     "output_type": "execute_result"
    }
   ],
   "source": [
    "df.sort_values(by=\"Reviews\",ascending=False).head(3)"
   ]
  },
  {
   "cell_type": "code",
   "execution_count": null,
   "id": "f5e02e81",
   "metadata": {},
   "outputs": [],
   "source": [
    "#Predictive Analysis using Linear Regression"
   ]
  },
  {
   "cell_type": "code",
   "execution_count": 21,
   "id": "ed238b7d",
   "metadata": {},
   "outputs": [],
   "source": [
    "from sklearn.linear_model import LinearRegression\n",
    "from sklearn.model_selection import train_test_split\n",
    "from sklearn.metrics import accuracy_score\n",
    "from sklearn.metrics import mean_squared_error"
   ]
  },
  {
   "cell_type": "code",
   "execution_count": 22,
   "id": "8f79f72a",
   "metadata": {},
   "outputs": [],
   "source": [
    "x=df[[\"Number_of_Customers\",\"Menu_Price\",\"Marketing_Spend\",\"Average_Customer_Spending\",\"Promotions\",\"Reviews\"]]"
   ]
  },
  {
   "cell_type": "code",
   "execution_count": 23,
   "id": "c74a77df",
   "metadata": {},
   "outputs": [
    {
     "data": {
      "text/html": [
       "<div>\n",
       "<style scoped>\n",
       "    .dataframe tbody tr th:only-of-type {\n",
       "        vertical-align: middle;\n",
       "    }\n",
       "\n",
       "    .dataframe tbody tr th {\n",
       "        vertical-align: top;\n",
       "    }\n",
       "\n",
       "    .dataframe thead th {\n",
       "        text-align: right;\n",
       "    }\n",
       "</style>\n",
       "<table border=\"1\" class=\"dataframe\">\n",
       "  <thead>\n",
       "    <tr style=\"text-align: right;\">\n",
       "      <th></th>\n",
       "      <th>Number_of_Customers</th>\n",
       "      <th>Menu_Price</th>\n",
       "      <th>Marketing_Spend</th>\n",
       "      <th>Average_Customer_Spending</th>\n",
       "      <th>Promotions</th>\n",
       "      <th>Reviews</th>\n",
       "    </tr>\n",
       "  </thead>\n",
       "  <tbody>\n",
       "    <tr>\n",
       "      <th>0</th>\n",
       "      <td>61</td>\n",
       "      <td>43.117635</td>\n",
       "      <td>12.663793</td>\n",
       "      <td>36.236133</td>\n",
       "      <td>0</td>\n",
       "      <td>45</td>\n",
       "    </tr>\n",
       "    <tr>\n",
       "      <th>1</th>\n",
       "      <td>24</td>\n",
       "      <td>40.020077</td>\n",
       "      <td>4.577892</td>\n",
       "      <td>17.952562</td>\n",
       "      <td>0</td>\n",
       "      <td>36</td>\n",
       "    </tr>\n",
       "    <tr>\n",
       "      <th>2</th>\n",
       "      <td>81</td>\n",
       "      <td>41.981485</td>\n",
       "      <td>4.652911</td>\n",
       "      <td>22.600420</td>\n",
       "      <td>1</td>\n",
       "      <td>91</td>\n",
       "    </tr>\n",
       "    <tr>\n",
       "      <th>3</th>\n",
       "      <td>70</td>\n",
       "      <td>43.005307</td>\n",
       "      <td>4.416053</td>\n",
       "      <td>18.984098</td>\n",
       "      <td>1</td>\n",
       "      <td>59</td>\n",
       "    </tr>\n",
       "    <tr>\n",
       "      <th>4</th>\n",
       "      <td>30</td>\n",
       "      <td>17.456199</td>\n",
       "      <td>3.475052</td>\n",
       "      <td>12.766143</td>\n",
       "      <td>1</td>\n",
       "      <td>30</td>\n",
       "    </tr>\n",
       "    <tr>\n",
       "      <th>...</th>\n",
       "      <td>...</td>\n",
       "      <td>...</td>\n",
       "      <td>...</td>\n",
       "      <td>...</td>\n",
       "      <td>...</td>\n",
       "      <td>...</td>\n",
       "    </tr>\n",
       "    <tr>\n",
       "      <th>995</th>\n",
       "      <td>73</td>\n",
       "      <td>41.307842</td>\n",
       "      <td>12.122931</td>\n",
       "      <td>19.033585</td>\n",
       "      <td>1</td>\n",
       "      <td>40</td>\n",
       "    </tr>\n",
       "    <tr>\n",
       "      <th>996</th>\n",
       "      <td>31</td>\n",
       "      <td>20.615496</td>\n",
       "      <td>5.822885</td>\n",
       "      <td>17.040990</td>\n",
       "      <td>0</td>\n",
       "      <td>57</td>\n",
       "    </tr>\n",
       "    <tr>\n",
       "      <th>997</th>\n",
       "      <td>69</td>\n",
       "      <td>17.110656</td>\n",
       "      <td>4.141898</td>\n",
       "      <td>44.649315</td>\n",
       "      <td>0</td>\n",
       "      <td>55</td>\n",
       "    </tr>\n",
       "    <tr>\n",
       "      <th>998</th>\n",
       "      <td>73</td>\n",
       "      <td>37.664722</td>\n",
       "      <td>3.046556</td>\n",
       "      <td>27.767358</td>\n",
       "      <td>0</td>\n",
       "      <td>23</td>\n",
       "    </tr>\n",
       "    <tr>\n",
       "      <th>999</th>\n",
       "      <td>81</td>\n",
       "      <td>34.722067</td>\n",
       "      <td>17.989104</td>\n",
       "      <td>15.482112</td>\n",
       "      <td>1</td>\n",
       "      <td>72</td>\n",
       "    </tr>\n",
       "  </tbody>\n",
       "</table>\n",
       "<p>1000 rows × 6 columns</p>\n",
       "</div>"
      ],
      "text/plain": [
       "     Number_of_Customers  Menu_Price  Marketing_Spend  \\\n",
       "0                     61   43.117635        12.663793   \n",
       "1                     24   40.020077         4.577892   \n",
       "2                     81   41.981485         4.652911   \n",
       "3                     70   43.005307         4.416053   \n",
       "4                     30   17.456199         3.475052   \n",
       "..                   ...         ...              ...   \n",
       "995                   73   41.307842        12.122931   \n",
       "996                   31   20.615496         5.822885   \n",
       "997                   69   17.110656         4.141898   \n",
       "998                   73   37.664722         3.046556   \n",
       "999                   81   34.722067        17.989104   \n",
       "\n",
       "     Average_Customer_Spending  Promotions  Reviews  \n",
       "0                    36.236133           0       45  \n",
       "1                    17.952562           0       36  \n",
       "2                    22.600420           1       91  \n",
       "3                    18.984098           1       59  \n",
       "4                    12.766143           1       30  \n",
       "..                         ...         ...      ...  \n",
       "995                  19.033585           1       40  \n",
       "996                  17.040990           0       57  \n",
       "997                  44.649315           0       55  \n",
       "998                  27.767358           0       23  \n",
       "999                  15.482112           1       72  \n",
       "\n",
       "[1000 rows x 6 columns]"
      ]
     },
     "execution_count": 23,
     "metadata": {},
     "output_type": "execute_result"
    }
   ],
   "source": [
    "x"
   ]
  },
  {
   "cell_type": "code",
   "execution_count": 24,
   "id": "4740f6e0",
   "metadata": {},
   "outputs": [],
   "source": [
    "y=df[\"Monthly_Revenue\"]"
   ]
  },
  {
   "cell_type": "code",
   "execution_count": 25,
   "id": "a731e052",
   "metadata": {},
   "outputs": [
    {
     "data": {
      "text/plain": [
       "0      350.912040\n",
       "1      221.319091\n",
       "2      326.529763\n",
       "3      348.190573\n",
       "4      185.009121\n",
       "          ...    \n",
       "995    249.312034\n",
       "996    110.228767\n",
       "997    312.212552\n",
       "998    272.482204\n",
       "999    379.973072\n",
       "Name: Monthly_Revenue, Length: 1000, dtype: float64"
      ]
     },
     "execution_count": 25,
     "metadata": {},
     "output_type": "execute_result"
    }
   ],
   "source": [
    "y"
   ]
  },
  {
   "cell_type": "code",
   "execution_count": 26,
   "id": "086531b5",
   "metadata": {},
   "outputs": [],
   "source": [
    "x_train, x_test, y_train, y_test = train_test_split(x, y, test_size=0.2)"
   ]
  },
  {
   "cell_type": "code",
   "execution_count": 27,
   "id": "447fa1f2",
   "metadata": {},
   "outputs": [],
   "source": [
    "Lr=LinearRegression()"
   ]
  },
  {
   "cell_type": "code",
   "execution_count": 30,
   "id": "c8bf1d3b",
   "metadata": {},
   "outputs": [
    {
     "data": {
      "text/html": [
       "<style>#sk-container-id-1 {color: black;}#sk-container-id-1 pre{padding: 0;}#sk-container-id-1 div.sk-toggleable {background-color: white;}#sk-container-id-1 label.sk-toggleable__label {cursor: pointer;display: block;width: 100%;margin-bottom: 0;padding: 0.3em;box-sizing: border-box;text-align: center;}#sk-container-id-1 label.sk-toggleable__label-arrow:before {content: \"▸\";float: left;margin-right: 0.25em;color: #696969;}#sk-container-id-1 label.sk-toggleable__label-arrow:hover:before {color: black;}#sk-container-id-1 div.sk-estimator:hover label.sk-toggleable__label-arrow:before {color: black;}#sk-container-id-1 div.sk-toggleable__content {max-height: 0;max-width: 0;overflow: hidden;text-align: left;background-color: #f0f8ff;}#sk-container-id-1 div.sk-toggleable__content pre {margin: 0.2em;color: black;border-radius: 0.25em;background-color: #f0f8ff;}#sk-container-id-1 input.sk-toggleable__control:checked~div.sk-toggleable__content {max-height: 200px;max-width: 100%;overflow: auto;}#sk-container-id-1 input.sk-toggleable__control:checked~label.sk-toggleable__label-arrow:before {content: \"▾\";}#sk-container-id-1 div.sk-estimator input.sk-toggleable__control:checked~label.sk-toggleable__label {background-color: #d4ebff;}#sk-container-id-1 div.sk-label input.sk-toggleable__control:checked~label.sk-toggleable__label {background-color: #d4ebff;}#sk-container-id-1 input.sk-hidden--visually {border: 0;clip: rect(1px 1px 1px 1px);clip: rect(1px, 1px, 1px, 1px);height: 1px;margin: -1px;overflow: hidden;padding: 0;position: absolute;width: 1px;}#sk-container-id-1 div.sk-estimator {font-family: monospace;background-color: #f0f8ff;border: 1px dotted black;border-radius: 0.25em;box-sizing: border-box;margin-bottom: 0.5em;}#sk-container-id-1 div.sk-estimator:hover {background-color: #d4ebff;}#sk-container-id-1 div.sk-parallel-item::after {content: \"\";width: 100%;border-bottom: 1px solid gray;flex-grow: 1;}#sk-container-id-1 div.sk-label:hover label.sk-toggleable__label {background-color: #d4ebff;}#sk-container-id-1 div.sk-serial::before {content: \"\";position: absolute;border-left: 1px solid gray;box-sizing: border-box;top: 0;bottom: 0;left: 50%;z-index: 0;}#sk-container-id-1 div.sk-serial {display: flex;flex-direction: column;align-items: center;background-color: white;padding-right: 0.2em;padding-left: 0.2em;position: relative;}#sk-container-id-1 div.sk-item {position: relative;z-index: 1;}#sk-container-id-1 div.sk-parallel {display: flex;align-items: stretch;justify-content: center;background-color: white;position: relative;}#sk-container-id-1 div.sk-item::before, #sk-container-id-1 div.sk-parallel-item::before {content: \"\";position: absolute;border-left: 1px solid gray;box-sizing: border-box;top: 0;bottom: 0;left: 50%;z-index: -1;}#sk-container-id-1 div.sk-parallel-item {display: flex;flex-direction: column;z-index: 1;position: relative;background-color: white;}#sk-container-id-1 div.sk-parallel-item:first-child::after {align-self: flex-end;width: 50%;}#sk-container-id-1 div.sk-parallel-item:last-child::after {align-self: flex-start;width: 50%;}#sk-container-id-1 div.sk-parallel-item:only-child::after {width: 0;}#sk-container-id-1 div.sk-dashed-wrapped {border: 1px dashed gray;margin: 0 0.4em 0.5em 0.4em;box-sizing: border-box;padding-bottom: 0.4em;background-color: white;}#sk-container-id-1 div.sk-label label {font-family: monospace;font-weight: bold;display: inline-block;line-height: 1.2em;}#sk-container-id-1 div.sk-label-container {text-align: center;}#sk-container-id-1 div.sk-container {/* jupyter's `normalize.less` sets `[hidden] { display: none; }` but bootstrap.min.css set `[hidden] { display: none !important; }` so we also need the `!important` here to be able to override the default hidden behavior on the sphinx rendered scikit-learn.org. See: https://github.com/scikit-learn/scikit-learn/issues/21755 */display: inline-block !important;position: relative;}#sk-container-id-1 div.sk-text-repr-fallback {display: none;}</style><div id=\"sk-container-id-1\" class=\"sk-top-container\"><div class=\"sk-text-repr-fallback\"><pre>LinearRegression()</pre><b>In a Jupyter environment, please rerun this cell to show the HTML representation or trust the notebook. <br />On GitHub, the HTML representation is unable to render, please try loading this page with nbviewer.org.</b></div><div class=\"sk-container\" hidden><div class=\"sk-item\"><div class=\"sk-estimator sk-toggleable\"><input class=\"sk-toggleable__control sk-hidden--visually\" id=\"sk-estimator-id-1\" type=\"checkbox\" checked><label for=\"sk-estimator-id-1\" class=\"sk-toggleable__label sk-toggleable__label-arrow\">LinearRegression</label><div class=\"sk-toggleable__content\"><pre>LinearRegression()</pre></div></div></div></div></div>"
      ],
      "text/plain": [
       "LinearRegression()"
      ]
     },
     "execution_count": 30,
     "metadata": {},
     "output_type": "execute_result"
    }
   ],
   "source": [
    "Lr.fit(x_train,y_train)"
   ]
  },
  {
   "cell_type": "code",
   "execution_count": 31,
   "id": "7ee5ea22",
   "metadata": {},
   "outputs": [
    {
     "data": {
      "text/plain": [
       "array([299.99098682, 337.96997342, 346.63366549, 314.19499518,\n",
       "       211.48071563, 256.98965296, 186.67137291, 229.65108185,\n",
       "       418.79895304, 393.65831287, 456.15932587, 328.18873803,\n",
       "       242.91260511, 189.24678087, 241.24602846, 203.60846684,\n",
       "       121.13099877, 192.69731736, 237.48193907, 301.71440055,\n",
       "       268.66986655, 273.0156392 , 250.89181299, 126.81403015,\n",
       "       314.93854909, 219.02264029, 333.43603164, 254.6560997 ,\n",
       "       126.84906042, 165.59120644, 261.88484263, 262.73776841,\n",
       "       321.58962407, 165.33102385, 338.56949186, 324.09527603,\n",
       "       322.78322846, 248.07948015,  94.45305023, 301.056461  ,\n",
       "       328.77296017, 152.43161401, 233.83625461,  81.19501317,\n",
       "       256.74748233, 387.50923817, 366.48054172, 156.55724326,\n",
       "       283.89702377, 424.47177686, 223.81066533, 235.65955206,\n",
       "       341.02437802, 220.72501875, 227.68762188, 171.95577763,\n",
       "       379.40900782, 425.18137819, 257.49714863, 408.37025758,\n",
       "       418.42054657, 146.54854269, 437.31558729, 391.61615742,\n",
       "       298.97653888, 303.35179452, 145.89588752, 302.25039725,\n",
       "       194.80355622, 289.56563686, 248.28058851, 309.60530712,\n",
       "       373.11172434, 256.09497596, 340.24098132, 427.14893316,\n",
       "       279.76872255, 268.91368085, 343.56965332, 266.63286358,\n",
       "       233.00949222, 380.15359311, 417.08151574, 201.9996867 ,\n",
       "       175.24534835, 160.10540647, 376.45192648, 150.21643613,\n",
       "       213.54264631, 272.68727814, 279.12264143, 134.79590267,\n",
       "       328.66916488, 339.50269957, 338.18962567, 134.29762913,\n",
       "       312.25546123, 233.29447532, 205.23792641, 107.05289338,\n",
       "        86.17614684, 174.70700818, 174.11034277, 137.81383491,\n",
       "       327.52288338, 306.42003124, 252.66431259, 265.98872147,\n",
       "       460.39887107, 214.51144689,  65.32090438, 334.20373974,\n",
       "       269.79560653, 198.89627188, 299.27629431, 206.80171132,\n",
       "       301.90629114, 276.65613171, 331.64093941, 320.94176084,\n",
       "       295.03332626, 354.54965758, 201.19196638, 206.56116353,\n",
       "       252.84057525, 431.93130954, 218.10818012, 274.49456014,\n",
       "       293.36104336, 243.00299228, 451.17511797, 259.21448096,\n",
       "       207.89520642, 193.20309662, 269.41330432, 290.32004177,\n",
       "       263.94518214, 175.20457889, 301.08956928, 309.00530275,\n",
       "       267.72111688, 307.57506115, 348.71305774, 247.61250251,\n",
       "       194.84006305, 239.6722999 , 267.06867726, 286.53831321,\n",
       "       342.91117283, 311.42017241, 418.44391098, 280.39694106,\n",
       "       304.12999194, 151.56694674, 173.5365642 , 217.66396301,\n",
       "       425.56239389, 166.99152391,  71.37722784, 339.38536117,\n",
       "       270.40443769, 187.73097475, 393.20529562, 241.37655667,\n",
       "       239.22280818, 259.81281275, 329.79917112, 187.03484791,\n",
       "       245.20223308, 349.01628276, 322.45361185, 272.19015056,\n",
       "       322.84159332, 240.85682633, 274.27918402, 304.31670657,\n",
       "       269.38614785, 291.88274609, 151.76409807, 463.98647059,\n",
       "       216.53882572, 216.86039959, 245.09359415, 421.23889627,\n",
       "       239.83420502, 155.41565906, 167.40590842, 147.44862743,\n",
       "       221.63988163, 401.27481709, 194.1142869 , 365.30951362,\n",
       "       307.00976583, 347.18521303, 167.6317421 , 440.86790078,\n",
       "       168.1574471 , 372.09913135, 391.40769062, 290.05931014])"
      ]
     },
     "execution_count": 31,
     "metadata": {},
     "output_type": "execute_result"
    }
   ],
   "source": [
    "Lr.predict(x_test)"
   ]
  },
  {
   "cell_type": "code",
   "execution_count": 32,
   "id": "6a30ea49",
   "metadata": {},
   "outputs": [
    {
     "name": "stdout",
     "output_type": "stream",
     "text": [
      "Mean Squared Error: 3458.9300693224477\n"
     ]
    }
   ],
   "source": [
    "mse = mean_squared_error(y_test, Lr.predict(x_test))\n",
    "print(f'Mean Squared Error: {mse}')"
   ]
  },
  {
   "cell_type": "code",
   "execution_count": 33,
   "id": "4b62e20e",
   "metadata": {},
   "outputs": [
    {
     "data": {
      "image/png": "[encoded data removed]",
      "text/plain": [
       "<Figure size 640x480 with 1 Axes>"
      ]
     },
     "metadata": {},
     "output_type": "display_data"
    }
   ],
   "source": [
    "plt.scatter(y_test,Lr.predict(x_test) )\n",
    "plt.show()"
   ]
  },
  {
   "cell_type": "code",
   "execution_count": null,
   "id": "49d981bf",
   "metadata": {},
   "outputs": [],
   "source": []
  }
 ],
 "metadata": {
  "kernelspec": {
   "display_name": "Python 3 (ipykernel)",
   "language": "python",
   "name": "python3"
  },
  "language_info": {
   "codemirror_mode": {
    "name": "ipython",
    "version": 3
   },
   "file_extension": ".py",
   "mimetype": "text/x-python",
   "name": "python",
   "nbconvert_exporter": "python",
   "pygments_lexer": "ipython3",
   "version": "3.11.4"
  }
 },
 "nbformat": 4,
 "nbformat_minor": 5
}
